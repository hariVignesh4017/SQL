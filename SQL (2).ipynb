{
  "nbformat": 4,
  "nbformat_minor": 0,
  "metadata": {
    "colab": {
      "provenance": []
    },
    "kernelspec": {
      "name": "python3",
      "display_name": "Python 3"
    },
    "language_info": {
      "name": "python"
    }
  },
  "cells": [
    {
      "cell_type": "code",
      "execution_count": null,
      "metadata": {
        "id": "FOyYU_qXX20M",
        "collapsed": true
      },
      "outputs": [],
      "source": [
        "##(1).   Create a table called employees with the following structure?\n",
        "# emp_id (integer, should not be NULL and should be a primary key)Q\n",
        "# emp_name (text, should not be NULL)Q\n",
        " #age (integer, should have a check constraint to ensure the age is at least 18)Q\n",
        " #email (text, should be unique for each employee)Q\n",
        " #salary (decimal, with a default value of 30,000).\n",
        "\n",
        "\n",
        "create database if not exists pw;\n",
        "use pw;\n",
        "create table if not exists  employees(\n",
        "emp_id int  primary key,\n",
        "emp_name varchar(25) not null,\n",
        "age int check (age>=18),\n",
        "email varchar(40) unique,\n",
        "salary decimal default (30000));\n",
        "use pw;"
      ]
    },
    {
      "cell_type": "markdown",
      "source": [
        "ques 2   Explain the purpose of constraints and how they help maintain data integrity in a database. Provideexamples of common types of constraints.\n",
        "\n",
        "\n",
        "ANS- SQL Constraints are used to specify rules for data.\n",
        "Constraints restrict the type of values that can be stored in a column\n",
        " Constraints prevent duplicate records where uniqueness is required, such as for primary keys.\n",
        "Constraints maintain valid relationships between tables, preventing orphaned records.\n",
        "\n",
        " EXAMPLE- NOT NULL\n",
        "         UNIQUE\n",
        "         PRIMARY KEY\n",
        "         DEFAULT\n",
        "         CHECK\n"
      ],
      "metadata": {
        "id": "rx4b_DpwYAt6"
      }
    },
    {
      "cell_type": "markdown",
      "source": [
        "\n",
        "ques 3  Why would you apply the NOT NULL constraint to a column? Can a primary key contain NULL values? Justifyyour answer.\n",
        "\n",
        "ANS- when we have to fill the column it means when a column should not be blank that time we have to give NOT NULL constraints .\n",
        "\n",
        " for example SR NO , ROLL NO , ORDER ID , CUSTOMER ID .\n",
        "\n",
        " yes a PRIMARY KEY contains not null and unique constraints."
      ],
      "metadata": {
        "id": "cNIpZ66vYmpU"
      }
    },
    {
      "cell_type": "markdown",
      "source": [
        "ques 4  Explain the steps and SQL commands used to add or remove constraints on an existing table. Provide an\n",
        "example for both adding and removing a constraint\n",
        "\n",
        "ANS- If i have a table named as employees and which have a column name as Salary and i  have to chanmge their datatypes from decimal to int  or constraints i have to follow following steps:\n",
        "\n",
        "* ALTER employees\n",
        "* MODIFY salary int;\n",
        "* to drop constraints\n",
        "* ALTER EMPLOYEES\n",
        "* DROP CONSTRAINTS salary;"
      ],
      "metadata": {
        "id": "-wN776R_bl_C"
      }
    },
    {
      "cell_type": "markdown",
      "source": [
        "ques 5 - Explain the consequences of attempting to insert, update, or delete data in a way that violates constraints.Provide an example of an error message that might occur when violating a constraint.\n",
        "\n",
        "\n",
        "ANS- If i gived salary column as int not null constraints and i want to put in any decimal no or if i forget to insert any no then SQL gives me error that salary should not be null or decimal value.\n",
        "\n",
        " for example insert into salary values __(empty)\n",
        "\n",
        " error code 1048- salary should not be null"
      ],
      "metadata": {
        "id": "jeMXW2dXb3fn"
      }
    },
    {
      "cell_type": "markdown",
      "source": [
        "ques 6  You created a products table without constraints as follows:\n",
        "\n",
        " CREATE TABLE products (\n",
        "\n",
        " product_id INT,\n",
        "\n",
        " product_name VARCHAR(50),\n",
        "\n",
        " price DECIMAL(10, 2));\n",
        "\n",
        " ans- *  ALTER TABLE products\n",
        " *   modify product_id int primary key,\n",
        " *  modify price decimal(10,2) default(50.00);"
      ],
      "metadata": {
        "id": "SUCjCCDIcdJa"
      }
    },
    {
      "cell_type": "code",
      "source": [
        "#ques 7 Write a query to fetch the student_name and class_name for each student using an INNER JOIN\n",
        "\n",
        "\n",
        "SELECT students.student_name, classes.class_name\n",
        "FROM students\n",
        "INNER JOIN classes\n",
        " ON students.class_id = classes.class_id;"
      ],
      "metadata": {
        "id": "Utj5iWjsdDUT"
      },
      "execution_count": null,
      "outputs": []
    },
    {
      "cell_type": "code",
      "source": [
        "#(8)-Write a query that shows all order_id, customer_name, and product_name, ensuring that all products are\n",
        "#listed even if they are not associated with an order\n",
        "#ans-\n",
        "use pw;\n",
        "create table orders (\n",
        "order_id int,\n",
        "order_date date,\n",
        "customer_id int) ;\n",
        "create table customers (\n",
        "customer_id int ,\n",
        "customer_name varchar (50));\n",
        "create table products(\n",
        "product_id int,\n",
        "product_name varchar(50),\n",
        "order_id int );\n",
        "insert into orders\n",
        "values (1,'2024-01-01',101),\n",
        "(2,'2024-01-03',102);\n",
        "insert into customers values\n",
        "(101,\"Alice\"),\n",
        "(102,\"Bob\");\n",
        "insert into products values\n",
        "(1,\"Laptop\",1),\n",
        "(2,\"Phone\",null );\n",
        "\n",
        "SELECT orders.order_id, customers.customer_name, products.product_name\n",
        "FROM products\n",
        "inner JOIN orders ON products.order_id = orders.order_id\n",
        "left JOIN customers ON orders.customer_id = customers.customer_id;\n"
      ],
      "metadata": {
        "id": "716DoBsyf9in"
      },
      "execution_count": null,
      "outputs": []
    },
    {
      "cell_type": "code",
      "source": [
        "#(9)-Write a query to find the total sales amount for each product using an INNER JOIN and the SUM\n",
        "#ANS-\n",
        "use pw;\n",
        "create table Sales(\n",
        "sale_id int,\n",
        "product_id int,\n",
        "ammount int);\n",
        "insert into Sales values\n",
        "(1,101,500),\n",
        "(2,102,300),\n",
        "(3,101,700);\n",
        "create table Product(\n",
        "product_id int,\n",
        "product_name varchar(50));\n",
        "insert into Product values\n",
        "(101,\"Laptop\"),\n",
        "(102,\"Phone\");\n",
        "SELECT p.product_name, SUM(s.ammount) AS total_sales\n",
        "FROM Sales s\n",
        "INNER JOIN Product p ON s.product_id = p.product_id\n",
        "GROUP BY p.product_name;\n"
      ],
      "metadata": {
        "id": "AmS01Tunf-9L"
      },
      "execution_count": null,
      "outputs": []
    },
    {
      "cell_type": "code",
      "source": [
        "#|(10)-Write a query to display the order_id, customer_name, and the quantity of products ordered by each\n",
        "#customer using an INNER JOIN between all three tables.\n",
        "#AMS=\n",
        "use pw;\n",
        "create table order1 (\n",
        "order_id int,\n",
        "order_date date,\n",
        "customer_id int) ;\n",
        "create table customer (\n",
        "customer_id int ,\n",
        "customer_name varchar (50));\n",
        "create table ORDER_DETAILS(\n",
        "order_id int,\n",
        "product_id int,\n",
        "quantity int );\n",
        "insert into order1\n",
        "values (1,'2024-01-01',1),\n",
        "(2,'2024-01-03',2);\n",
        "select*FROM ORDER1;\n",
        "insert into customer values\n",
        "(101,\"Alice\"),\n",
        "(102,\"Bob\");\n",
        "insert into ORDER_DETAILS values\n",
        "(1,101,2),\n",
        "(1,102,1),\n",
        "(2,101,3);\n",
        "\n",
        "select order1,order_id,customer.customer_name,ORDER_DETAILS.quantity\n",
        "from ORDER_DETAILS\n",
        "inner join customer\n",
        "on order1.customer_id=customer.customer_id\n",
        "inner join order1\n",
        "on order1.order_id=ORDER_DETAILS.ORDER_ID;\n",
        "SELECT order1.order_id,customer.customer_name, SUM(ORDER_DETAILS.quantity) AS total_quantity\n",
        "FROM order1 o\n",
        "INNER JOIN customer c ON o.customer_id = c.customer_id\n",
        "INNER JOIN ORDER_DETAILS od ON o.order_id = od.order_id\n",
        "GROUP BY o.order_id, c.customer_name;"
      ],
      "metadata": {
        "id": "cjqVPtP8gnUk"
      },
      "execution_count": null,
      "outputs": []
    },
    {
      "cell_type": "markdown",
      "source": [
        "**SQL Commands**\n"
      ],
      "metadata": {
        "id": "-mjwf6b-hGwY"
      }
    },
    {
      "cell_type": "markdown",
      "source": [
        " ques 1 -Identify the primary keys and foreign keys in maven movies db. Discuss the differences.\n",
        "\n",
        "\n",
        "  A primary key is a unique identifier for a record in a table. It ensures that each row in a table can be uniquely identified.\n",
        "\n",
        "  A foreign key is a field (or collection of fields) in one table that uniquely identifies a row of another table. The foreign key is used to establish and enforce a link between the data in two tables"
      ],
      "metadata": {
        "id": "UZ1XVUlHhJLi"
      }
    },
    {
      "cell_type": "code",
      "source": [
        "#ques 2  List all details of actors\n",
        "\n",
        "use sakila;\n",
        "select*from actor;"
      ],
      "metadata": {
        "id": "j_NyXYuTiIDe"
      },
      "execution_count": null,
      "outputs": []
    },
    {
      "cell_type": "code",
      "source": [
        "#ques 3 List all customer information from DB.\n",
        "SELECT * FROM Customers;\n"
      ],
      "metadata": {
        "id": "6GOfDvTBiWOi"
      },
      "execution_count": null,
      "outputs": []
    },
    {
      "cell_type": "code",
      "source": [
        "#ques 4 List different countries\n",
        "select country from country;"
      ],
      "metadata": {
        "id": "nkZOlo5eiepa"
      },
      "execution_count": null,
      "outputs": []
    },
    {
      "cell_type": "code",
      "source": [
        "#ques 5  Display all active customers\n",
        "select first_name,active from customer;"
      ],
      "metadata": {
        "id": "_GHHpNpxikgz"
      },
      "execution_count": null,
      "outputs": []
    },
    {
      "cell_type": "code",
      "source": [
        "#ques 6 List of all rental IDs for customer with ID 1\n",
        "select rental_id,customer_id from rental\n",
        "where customer_id in (1);"
      ],
      "metadata": {
        "id": "H5aEFgMnitl2"
      },
      "execution_count": null,
      "outputs": []
    },
    {
      "cell_type": "code",
      "source": [
        "#ques 7  Display all the films whose rental duration is greater than 5\n",
        "select title, rental_duration from film\n",
        "where rental_duration>5;"
      ],
      "metadata": {
        "id": "N6wkfo-Si4nE"
      },
      "execution_count": null,
      "outputs": []
    },
    {
      "cell_type": "code",
      "source": [
        "\n",
        "# ques 8 List the total number of films whose replacement cost is greater than $15 and less than $20.\n",
        "select replacement_cost,title from film\n",
        "where replacement_cost between 15 and 20;"
      ],
      "metadata": {
        "id": "4VEdlijgi-LH"
      },
      "execution_count": null,
      "outputs": []
    },
    {
      "cell_type": "code",
      "source": [
        "#ques 9  Display the count of unique first names of actors.\n",
        "select count(distinct first_name) from actor;\n"
      ],
      "metadata": {
        "id": "08c4XKPIjL2T"
      },
      "execution_count": null,
      "outputs": []
    },
    {
      "cell_type": "code",
      "source": [
        "#ques 10 Display the first 10 records from the customer table\n",
        "select*from customer\n",
        "limit 10;"
      ],
      "metadata": {
        "id": "x5RjLON4jLJY"
      },
      "execution_count": null,
      "outputs": []
    },
    {
      "cell_type": "code",
      "source": [
        "# ques 11 Display the first 3 records from the customer table whose first name starts with ‘b’\n",
        "select*from customer\n",
        "where first_name like 'b%'\n",
        "limit 3;"
      ],
      "metadata": {
        "id": "xB-ErT3SjLaU"
      },
      "execution_count": null,
      "outputs": []
    },
    {
      "cell_type": "code",
      "source": [
        "#ques 12 Display the names of the first 5 movies which are rated as ‘G’\n",
        "select title,rating from film\n",
        "where rating='G'\n",
        "limit 5;"
      ],
      "metadata": {
        "id": "IpIki6Gfj9rJ"
      },
      "execution_count": null,
      "outputs": []
    },
    {
      "cell_type": "code",
      "source": [
        "#ques 13 Find all customers whose first name starts with \"a\".\n",
        "select first_name from customer\n",
        "where first_name like 'a%';"
      ],
      "metadata": {
        "id": "mgbMWeXTkEh4"
      },
      "execution_count": null,
      "outputs": []
    },
    {
      "cell_type": "code",
      "source": [
        "#ques 14  Find all customers whose first name ends with \"a\".\n",
        "select first_name from customer\n",
        "where first_name like '%a';"
      ],
      "metadata": {
        "id": "ZYfY2m3tkUTk"
      },
      "execution_count": null,
      "outputs": []
    },
    {
      "cell_type": "code",
      "source": [
        "#ques 15 Display the list of first 4 cities which start and end with ‘a’ .\n",
        "select * from city\n",
        "where city like 'a%a'\n",
        "limit 4;"
      ],
      "metadata": {
        "id": "7EByYN7SkbnQ"
      },
      "execution_count": null,
      "outputs": []
    },
    {
      "cell_type": "code",
      "source": [
        "#ques 16 Find all customers whose first name have \"NI\" in any position\n",
        "select * from customer\n",
        "where first_name like '%NI%';"
      ],
      "metadata": {
        "id": "GrtEecqwkoLf"
      },
      "execution_count": null,
      "outputs": []
    },
    {
      "cell_type": "code",
      "source": [
        "#ques 17 Find all customers whose first name have \"r\" in the second position\n",
        "select * from customer\n",
        "where first_name like '_r%';"
      ],
      "metadata": {
        "id": "okoQxn9PkyP5"
      },
      "execution_count": null,
      "outputs": []
    },
    {
      "cell_type": "code",
      "source": [
        "#ques 18  Find all customers whose first name starts with \"a\" and are at least 5 characters in length\n",
        "select * from customer\n",
        "where first_name like 'a%' and length(first_name)>=5;"
      ],
      "metadata": {
        "id": "05QTVUAVk5-u"
      },
      "execution_count": null,
      "outputs": []
    },
    {
      "cell_type": "code",
      "source": [
        "#ques 19 Find all customers whose first name starts with \"a\" and ends with \"o\"\n",
        "select * from customer\n",
        "where first_name like 'a%o';\n"
      ],
      "metadata": {
        "id": "F66Ts2NklReD"
      },
      "execution_count": null,
      "outputs": []
    },
    {
      "cell_type": "code",
      "source": [
        "#ques 20 Get the films with pg and pg-13 rating using IN operator\n",
        "select *from film\n",
        "where rating in ('pg','pg-13');\n"
      ],
      "metadata": {
        "id": "fKpzUWmNlYDR"
      },
      "execution_count": null,
      "outputs": []
    },
    {
      "cell_type": "code",
      "source": [
        "#ques 21 Get the films with length between 50 to 100 using between operator.\n",
        "select *from film\n",
        "where length between 50 and 100;"
      ],
      "metadata": {
        "id": "WeIzJao3le6C"
      },
      "execution_count": null,
      "outputs": []
    },
    {
      "cell_type": "code",
      "source": [
        "#ques 22  Get the top 50 actors using limit operator\n",
        "select *from actor\n",
        "limit 50;"
      ],
      "metadata": {
        "id": "bLFyW1Y6lppA"
      },
      "execution_count": null,
      "outputs": []
    },
    {
      "cell_type": "code",
      "source": [
        "#ques 23 - Get the distinct film ids from inventory table.\n",
        "select* from inventory\n",
        "where film_id in(select distinct film_id from inventory);\n"
      ],
      "metadata": {
        "id": "Urp_ektflwlp"
      },
      "execution_count": null,
      "outputs": []
    },
    {
      "cell_type": "markdown",
      "source": [
        "**Functions**"
      ],
      "metadata": {
        "id": "tIesqZTqmM0Q"
      }
    },
    {
      "cell_type": "code",
      "source": [
        "# Quest 1: Retrieve the total number of rentals made in the Sakila database.\n",
        "\n",
        " SELECT COUNT(*) AS total_rentals\n",
        "FROM rental;\n"
      ],
      "metadata": {
        "id": "7ILsvBTNmbyn"
      },
      "execution_count": null,
      "outputs": []
    },
    {
      "cell_type": "code",
      "source": [
        "# Ques 2: the average rental duration (in days) of movies rented from the Sakila database.\n",
        "\n",
        "\n",
        " SELECT AVG(rental_duration) as avg_rental_duration\n",
        "FROM rental;\n"
      ],
      "metadata": {
        "id": "DYGBdL3hm-ug"
      },
      "execution_count": null,
      "outputs": []
    },
    {
      "cell_type": "code",
      "source": [
        "# ques 3 Display the first name and last name of customers in uppercase.\n",
        "select upper(first_name) as FIRST_NAME,\n",
        "upper(last_name) as LAST_NAME\n",
        "from customer;"
      ],
      "metadata": {
        "id": "yG1zkfnZnpd_"
      },
      "execution_count": null,
      "outputs": []
    },
    {
      "cell_type": "code",
      "source": [
        "#ques 4  Extract the month from the rental date and display it alongside the rental\n",
        "SELECT rental_id, rental_date, MONTH(rental_date) AS rental_month\n",
        "FROM rental;\n"
      ],
      "metadata": {
        "id": "gIKBRs9Vn72i"
      },
      "execution_count": null,
      "outputs": []
    },
    {
      "cell_type": "code",
      "source": [
        "#ques 5 Retrieve the count of rentals for each customer display customer ID and the count of rent\n",
        "\n",
        "SELECT customer_id, COUNT(*) AS rental_count\n",
        "FROM rental\n",
        "GROUP BY customer_id;\n"
      ],
      "metadata": {
        "id": "-g2lQwdJn7vS"
      },
      "execution_count": null,
      "outputs": []
    },
    {
      "cell_type": "code",
      "source": [
        "#ques 6 Find the total revenue generated by each store\n",
        "SELECT store_id, SUM(amount) AS total_revenue\n",
        "FROM payment\n",
        "GROUP BY store_id;"
      ],
      "metadata": {
        "id": "tBtpCv9YqNOw"
      },
      "execution_count": null,
      "outputs": []
    },
    {
      "cell_type": "code",
      "source": [
        "# ques 7 Determine the total number of rentals for each category of movies.\n",
        "\n",
        "\n",
        "SELECT c.name AS category_name, COUNT(r.rental_id) AS rental_count\n",
        "FROM category c\n",
        "JOIN film_category fc ON c.category_id = fc.category_id\n",
        "JOIN film f ON fc.film_id = f.film_id\n",
        "JOIN inventory i ON f.film_id = i.film_id\n",
        "JOIN rental r ON i.inventory_id = r.inventory_id\n",
        "GROUP BY c.name;\n"
      ],
      "metadata": {
        "id": "BELRLjKbqkLC"
      },
      "execution_count": null,
      "outputs": []
    },
    {
      "cell_type": "code",
      "source": [
        "#ques 8 Find the average rental rate of movies in each language\n",
        "SELECT l.name AS Language, AVG(f.rental_rate) AS Avg_Rental_Rate\n",
        "FROM film f\n",
        "JOIN language l ON f.language_id = l.language_id\n",
        "GROUP BY l.name;\n"
      ],
      "metadata": {
        "id": "3odcBcpKz129"
      },
      "execution_count": null,
      "outputs": []
    },
    {
      "cell_type": "code",
      "source": [
        "#ques 9 Display the title of the movie, customer's first name, and last name who rented it.\n",
        "\n",
        "SELECT f.title AS Movie_Title,\n",
        "  c.first_name AS Customer_First_Name,\n",
        "  c.last_name AS Customer_Last_Name\n",
        "FROM film f\n",
        "JOIN inventory i ON f.film_id = i.film_id\n",
        "JOIN rental r ON i.inventory_id = r.inventory_id\n",
        "JOIN customer c ON r.customer_id = c.customer_id;\n"
      ],
      "metadata": {
        "id": "n6--fEcw6NJ5"
      },
      "execution_count": null,
      "outputs": []
    },
    {
      "cell_type": "code",
      "source": [
        "#ques 10  Retrieve the names of all actors who have appeared in the film \"Gone with the Wind.\"\n",
        "SELECT a.first_name AS Actor_First_Name,\n",
        "       a.last_name AS Actor_Last_Name\n",
        "FROM actor a\n",
        "JOIN film_actor fa ON a.actor_id = fa.actor_id\n",
        "JOIN film f ON fa.film_id = f.film_id\n",
        "WHERE f.title = 'Gone with the Wind';\n"
      ],
      "metadata": {
        "id": "mcSYj5gZ7MvP"
      },
      "execution_count": null,
      "outputs": []
    },
    {
      "cell_type": "code",
      "source": [
        "#ques 11 Retrieve the customer names along with the total amount they've spent on rentals.\n",
        " SELECT c.first_name AS Customer_First_Name,\n",
        "        c.last_name AS Customer_Last_Name,\n",
        "       SUM(p.amount) AS Total_Spent\n",
        "FROM customer c\n",
        "JOIN payment p ON c.customer_id = p.customer_id\n",
        "GROUP BY c.customer_id\n",
        "ORDER BY Total_Spent DESC;\n"
      ],
      "metadata": {
        "id": "10jUQn9g7ntz"
      },
      "execution_count": null,
      "outputs": []
    },
    {
      "cell_type": "code",
      "source": [
        "#ques 12 List the titles of movies rented by each customer in a particular city (e.g., 'London').\n",
        "\n",
        "SELECT c.first_name AS Customer_First_Name,\n",
        "       c.last_name AS Customer_Last_Name,\n",
        "       f.title AS Movie_Title\n",
        "FROM customer c\n",
        "JOIN address a ON c.address_id = a.address_id\n",
        "JOIN city ci ON a.city_id = ci.city_id\n",
        "JOIN rental r ON c.customer_id = r.customer_id\n",
        "JOIN inventory i ON r.inventory_id = i.inventory_id\n",
        "JOIN film f ON i.film_id = f.film_id\n",
        "WHERE ci.city = 'London'\n",
        "ORDER BY c.last_name, c.first_name, f.title;\n"
      ],
      "metadata": {
        "id": "7ZwKtdqe-boK"
      },
      "execution_count": null,
      "outputs": []
    },
    {
      "cell_type": "code",
      "source": [
        "#ques 13 Display the top 5 rented movies along with the number of times they've been rented.\n",
        "\n",
        "SELECT f.title AS Movie_Title,\n",
        "       COUNT(r.rental_id) AS Rental_Count\n",
        "FROM film f\n",
        "JOIN inventory i ON f.film_id = i.film_id\n",
        "JOIN rental r ON i.inventory_id = r.inventory_id\n",
        "GROUP BY f.film_id\n",
        "ORDER BY Rental_Count DESC\n",
        "LIMIT 5;\n"
      ],
      "metadata": {
        "id": "d53Kz-US-8qM"
      },
      "execution_count": null,
      "outputs": []
    },
    {
      "cell_type": "code",
      "source": [
        "# ques 14 Determine the customers who have rented movies from both stores (store ID 1 and store ID 2).\n",
        " SELECT c.first_name AS Customer_First_Name,\n",
        "        c.last_name AS Customer_Last_Name\n",
        "FROM customer c\n",
        "JOIN rental r ON c.customer_id = r.customer_id\n",
        "JOIN inventory i ON r.inventory_id = i.inventory_id\n",
        "WHERE i.store_id IN (1, 2)\n",
        "GROUP BY c.customer_id\n",
        "HAVING COUNT(DISTINCT i.store_id) = 2;\n"
      ],
      "metadata": {
        "id": "1Gvxjtap_J9H"
      },
      "execution_count": null,
      "outputs": []
    },
    {
      "cell_type": "markdown",
      "source": [
        "**Windows Function**"
      ],
      "metadata": {
        "id": "ydSx5PfE_cSF"
      }
    },
    {
      "cell_type": "code",
      "source": [
        "#ques 1  Rank the customers based on the total amount they've spent on rentals.\n",
        "select customer.first_name,payment.amount\n",
        "from payment\n",
        "left join customer\n",
        "on customer.customer_id=payment.customer_id\n",
        "order by payment.amount desc;"
      ],
      "metadata": {
        "id": "IifRpO-LI634"
      },
      "execution_count": null,
      "outputs": []
    },
    {
      "cell_type": "code",
      "source": [
        "# ques 2  Calculate the cumulative revenue generated by each film over time.\n",
        "\n",
        "SELECT FILM.TITLE AS FILM ,SUM(PAYMENT.AMOUNT) AS REVENUE\n",
        "FROM PAYMENT\n",
        "INNER JOIN FILM\n",
        "ON FILM.LAST_UPDATE=PAYMENT.LAST_UPDATE\n",
        "GROUP BY FILM.TITLE;"
      ],
      "metadata": {
        "id": "8j_NFK5uIj51"
      },
      "execution_count": null,
      "outputs": []
    },
    {
      "cell_type": "code",
      "source": [
        "# ques 3 Determine the average rental duration for each film, considering films with similar lengths.\n",
        "SELECT f.title AS film,\n",
        "       f.length AS film_length,\n",
        "       ROUND(AVG(DATEDIFF(r.return_date, r.rental_date)), 2) AS avg_rental_duration\n",
        "FROM rental r\n",
        "JOIN inventory i ON r.inventory_id = i.inventory_id\n",
        "JOIN film f ON i.film_id = f.film_id\n",
        "GROUP BY f.title, f.length\n",
        "ORDER BY f.length, avg_rental_duration DESC;"
      ],
      "metadata": {
        "id": "Gs4nUB_fJNhG"
      },
      "execution_count": null,
      "outputs": []
    },
    {
      "cell_type": "code",
      "source": [
        "# ques 4 . Identify the top 3 films in each category based on their rental counts\n",
        "use sakila;\n",
        "SELECT\n",
        "    f.title,\n",
        "    r.rental_date,\n",
        "    f.rating,\n",
        "    r.rental_id\n",
        "FROM rental r\n",
        "INNER JOIN inventory i ON r.inventory_id = i.inventory_id\n",
        "INNER JOIN film f ON i.film_id = f.film_id;"
      ],
      "metadata": {
        "id": "3y0kZ3h4JQFV"
      },
      "execution_count": null,
      "outputs": []
    },
    {
      "cell_type": "code",
      "source": [
        "#ques 5 Calculate the difference in rental counts between each customers total rentals and the average rentals\n",
        "    #across all customers\n",
        "\n",
        "SELECT\n",
        "    c.customer_id,\n",
        "    c.first_name,\n",
        "    c.last_name,\n",
        "    COUNT(r.rental_id) AS total_rentals,\n",
        "    (COUNT(r.rental_id) - avg_rentals.avg_rental_count) AS rental_difference\n",
        "FROM customer c\n",
        "LEFT JOIN rental r ON c.customer_id = r.customer_id\n",
        "CROSS JOIN (\n",
        "    SELECT AVG(rental_count) AS avg_rental_count\n",
        "    FROM (\n",
        "        SELECT customer_id, COUNT(rental_id) AS rental_count\n",
        "        FROM rental\n",
        "        GROUP BY customer_id\n",
        "    ) AS customer_rentals\n",
        ") AS avg_rentals\n",
        "GROUP BY c.customer_id, avg_rentals.avg_rental_count\n",
        "ORDER BY rental_difference DESC;"
      ],
      "metadata": {
        "id": "TsJwhfCZJUjy"
      },
      "execution_count": null,
      "outputs": []
    },
    {
      "cell_type": "code",
      "source": [
        "#ques 6  Find the monthly revenue trend for the entire rental store over time.\n",
        "\n",
        "SELECT\n",
        "    DATE_FORMAT(p.payment_date, '%Y-%m') AS month,\n",
        "    SUM(p.amount) AS total_revenue\n",
        "FROM\n",
        "    payment p\n",
        "GROUP BY\n",
        "    month\n",
        "ORDER BY\n",
        "    month ASC;\n",
        "\n"
      ],
      "metadata": {
        "id": "CXwde1QDJxbw"
      },
      "execution_count": null,
      "outputs": []
    },
    {
      "cell_type": "code",
      "source": [
        "# 7  Identify the customers whose total spending on rentals falls within the top 20% of all customers.\n",
        "WITH customer_spending AS (\n",
        "    SELECT\n",
        "        c.customer_id,\n",
        "        c.first_name,\n",
        "        c.last_name,\n",
        "        SUM(p.amount) AS total_spent,\n",
        "        NTILE(5) OVER (ORDER BY SUM(p.amount) DESC) AS spending_rank\n",
        "    FROM customer c\n",
        "    JOIN rental r ON c.customer_id = r.customer_id\n",
        "    JOIN payment p ON r.rental_id = p.rental_id\n",
        "    GROUP BY c.customer_id, c.first_name, c.last_name\n",
        ")\n",
        "SELECT customer_id, first_name, last_name, total_spent\n",
        "FROM customer_spending\n",
        "WHERE spending_rank = 1  -- Top 20%\n",
        "ORDER BY total_spent DESC;"
      ],
      "metadata": {
        "id": "17fCpgyvK7j-"
      },
      "execution_count": null,
      "outputs": []
    },
    {
      "cell_type": "code",
      "source": [
        "#8 Calculate the running total of rentals per category, ordered by rental count.\n",
        "SELECT\n",
        "    c.name AS category_name,\n",
        "    f.title,\n",
        "    COUNT(r.rental_id) AS rental_count,\n",
        "    SUM(COUNT(r.rental_id)) OVER (PARTITION BY c.category_id ORDER BY COUNT(r.rental_id)) AS running_total\n",
        "FROM film f\n",
        "JOIN film_category fc ON f.film_id = fc.film_id\n",
        "JOIN category c ON fc.category_id = c.category_id\n",
        "JOIN inventory i ON f.film_id = i.film_id\n",
        "LEFT JOIN rental r ON i.inventory_id = r.inventory_id\n",
        "GROUP BY c.category_id, c.name, f.film_id, f.title\n",
        "ORDER BY category_name, rental_count;"
      ],
      "metadata": {
        "id": "i_s75vqKLEp4"
      },
      "execution_count": null,
      "outputs": []
    },
    {
      "cell_type": "code",
      "source": [
        "#ques 9 Find the films that have been rented less than the average rental count for their respective categories.\n",
        "\n",
        "WITH CategoryRentalCount AS (\n",
        "    SELECT\n",
        "        f.film_id,\n",
        "        c.name AS category_name,\n",
        "        COUNT(r.rental_id) AS rental_count\n",
        "    FROM film f\n",
        "    JOIN film_category fc ON f.film_id = fc.film_id\n",
        "    JOIN category c ON fc.category_id = c.category_id\n",
        "    JOIN inventory i ON f.film_id = i.film_id\n",
        "    JOIN rental r ON i.inventory_id = r.inventory_id\n",
        "    GROUP BYf.film_id, c.name\n",
        "),\n",
        "CategoryAvgRental AS (\n",
        "    # Calculate the average rental count per category\n",
        "    SELECTcategory_name, AVG(rental_count) AS avg_rental_count\n",
        "    FROM CategoryRentalCount\n",
        "    GROUP BY category_name\n",
        ")\n",
        "# Select films with rental counts less than the average for their category\n",
        "SELECT\n",
        "    crc.film_id,\n",
        "    crc.category_name,\n",
        "    crc.rental_count,\n",
        "    ca.avg_rental_count\n",
        "FROM CategoryRentalCount crc\n",
        "JOIN CategoryAvgRental ca ON crc.category_name = ca.category_name\n",
        "WHERE crc.rental_count < ca.avg_rental_count\n",
        "ORDER BY crc.category_name, crc.rental_count;\n"
      ],
      "metadata": {
        "id": "SrEAfPQZLHjY"
      },
      "execution_count": null,
      "outputs": []
    },
    {
      "cell_type": "code",
      "source": [
        "#ques 10  Identify the top 5 months with the highest revenue and display the revenue generated in each month.\n",
        "\n",
        "SELECT\n",
        "    DATE_FORMAT(p.payment_date, '%Y-%m') AS month,\n",
        "    SUM(p.amount) AS total_revenue\n",
        "FROM\n",
        "    payment p\n",
        "GROUP BY\n",
        "    month\n",
        "ORDER BY\n",
        "    total_revenue DESC\n",
        "LIMIT 5;\n"
      ],
      "metadata": {
        "id": "hzc6MNomLQI8"
      },
      "execution_count": null,
      "outputs": []
    },
    {
      "cell_type": "markdown",
      "source": [
        "**Normalisation & CTE**"
      ],
      "metadata": {
        "id": "KHJDcFllLe5u"
      }
    },
    {
      "cell_type": "markdown",
      "source": [
        "ques1  Identify a table in the Sakila database that violates 1NF. Explain how you would normalize it to achieve 1NF.\n",
        "\n",
        "1NF definition : a table is in 1NF if each column contain only atomic 1NF Definition: A table is in 1NF if each column contains only atomic (indivisible) values, and there are no repeating groups of columns.\n",
        " * Sakila Example (Violation and Normalization):\n",
        "   * It's less common to find blatant 1NF violations in well-designed relational databases like Sakila. However, let's create a hypothetical example to illustrate.\n",
        "   * Hypothetical Violation: Imagine if the customer table had a column called phone that could store multiple phone numbers separated by commas (e.g., \"123-456-7890, 987-654-3210\"). This is a 1NF violation because the phone column has multiple values.\n",
        "   * Normalization to 1NF: To fix this, you would create a separate table called customer_phone. This table would have columns like customer_id (foreign key referencing the customer table) and phone_number. Each row in customer_phone would store a single phone number for a customer."
      ],
      "metadata": {
        "id": "VZasKtN5fl6L"
      }
    },
    {
      "cell_type": "markdown",
      "source": [
        "ques 2 . Choose a table in Sakila and describe how you would determine whether it is in 2NF. If it violates 2NF, explain the steps to normalize it.\n",
        "\n",
        "Second Normal Form (2NF)\n",
        " * 2NF Definition: A table is in 2NF if it is in 1NF and all non-key attributes are fully functionally dependent on the entire primary key. This is only relevant for tables with composite primary keys (a primary key made up of two or more columns).\n",
        " * Sakila Example:\n",
        "   * Table: Let's consider a hypothetical table (or a simplification of something like film_actor) called film_actor_info with columns: film_id (part of the primary key), actor_id (part of the primary key), and actor_role.\n",
        "   * 2NF Check:\n",
        "     * The primary key is a composite key: (film_id, actor_id).\n",
        "     * actor_role is functionally dependent on the entire primary key. Knowing both the film_id and the actor_id tells you the actor_role.\n",
        "   * Violation Scenario: If we added an attribute like actor_birthdate to film_actor_info, and actor_birthdate is only dependent on actor_id (not film_id), then this table would violate 2NF.\n",
        "   * Normalization to 2NF: To fix this, you'd create two tables:\n",
        "     * film_actor: (film_id, actor_id, actor_role)\n",
        "     * actor: (actor_id, actor_birthdate)"
      ],
      "metadata": {
        "id": "W__RkzUcgDRo"
      }
    },
    {
      "cell_type": "markdown",
      "source": [
        "ques 3 Identify a table in Sakila that violates 3NF. Describe the transitive dependencies  present and outline the steps to normalize the table to 3NF.\n",
        "\n",
        "Third Normal Form (3NF)\n",
        " * 3NF Definition: A table is in 2NF and no non-key attribute is transitively dependent on the primary key. Transitive dependency means that a non-key attribute depends on another non-key attribute, which in turn depends on the primary key.\n",
        " * Sakila Example:\n",
        "   * Table: Consider the address table in Sakila. It has columns like address_id (primary key), address, city_id, and city.\n",
        "   * 3NF Violation: Here, city is transitively dependent on address_id. address_id determines city_id, and city_id determines city.\n",
        "   * Normalization to 3NF: To correct this, you would separate the city information into its own city table:\n",
        "     * address: (address_id, address, city_id)\n",
        "     * city: (city_id, city)"
      ],
      "metadata": {
        "id": "FsTd9wNqgYfR"
      }
    },
    {
      "cell_type": "markdown",
      "source": [
        "ques 4  Take a specific table in Sakila and guide through the process of normalizing it from the initial  unnormalized form up to at least 2NF\n",
        "\n",
        " Normalization Process (Example)\n",
        "Let's take a simplified example and normalize it to 2NF:\n",
        " * Unnormalized Table: Imagine we have a table called order_details with the following columns: order_id, product_id, product_name, quantity, and product_price. In this table, order_id and product_id together form the primary key.\n",
        " * 1NF Check: Assume this table is already in 1NF (each column has atomic values).\n",
        " * 2NF Check:\n",
        "   * Primary key: (order_id, product_id)\n",
        "   * Dependencies:\n",
        "     * product_name and product_price are dependent on product_id only.\n",
        "     * quantity is dependent on both order_id and product_id.\n",
        " * 2NF Normalization:\n",
        "   * Create order_product: (order_id, product_id, quantity)\n",
        "   * Create product: (product_id, product_name, product_price)"
      ],
      "metadata": {
        "id": "QBi6P1DQgkq5"
      }
    },
    {
      "cell_type": "code",
      "source": [
        "#ques 5 Write a query using a CTE to retrieve the distinct list of actor names and the number of films they have acted in from the actor and film_actor tables\n",
        "\n",
        " WITH ActorFilmCount AS (\n",
        "    # Step 1: Calculate the number of films for each actor\n",
        "    SELECT\n",
        "        a.actor_id,\n",
        "        CONCAT(a.first_name, ' ', a.last_name) AS actor_name,\n",
        "        COUNT(fa.film_id) AS film_count\n",
        "    FROM\n",
        "        actor a\n",
        "    JOIN\n",
        "        film_actor fa ON a.actor_id = fa.actor_id\n",
        "    GROUP BY\n",
        "        a.actor_id, actor_name\n",
        ")\n",
        "# Step 2: Select distinct actors and their film counts from the CTE\n",
        "SELECT\n",
        "    actor_name,\n",
        "    film_count\n",
        "FROM\n",
        "    ActorFilmCount\n",
        "ORDER BY\n",
        "    film_count DESC;\n"
      ],
      "metadata": {
        "id": "TR97ySzs6eyY"
      },
      "execution_count": null,
      "outputs": []
    },
    {
      "cell_type": "code",
      "source": [
        "#ques 6  Create a CTE that combines information from the film and language tables to display the film title, language name, and rental rate\n",
        "\n",
        "\n",
        "WITH FilmLanguageRental AS (\n",
        " # Combine information from the film and language tables\n",
        "    SELECT\n",
        "        f.title AS film_title,\n",
        "        l.name AS language_name,\n",
        "        f.rental_rate\n",
        "    FROM\n",
        "        film f\n",
        "    JOIN\n",
        "        language l ON f.language_id = l.language_id\n",
        ")\n",
        "SELECT\n",
        "    film_title,\n",
        "    language_name,\n",
        "    rental_rate\n",
        "FROM\n",
        "    FilmLanguageRental\n",
        "ORDER BY\n",
        "    film_title;\n"
      ],
      "metadata": {
        "id": "Xmr2SGb6683A"
      },
      "execution_count": null,
      "outputs": []
    },
    {
      "cell_type": "code",
      "source": [
        "#ques 7  Write a query using a CTE to find the total revenue generated by each customer (sum of payments) from the customer and payment tables\n",
        "\n",
        "WITH CustomerRevenue AS (\n",
        "# Calculate the total revenue for each customer by summing their payments\n",
        "    SELECT\n",
        "        c.customer_id,\n",
        "        CONCAT(c.first_name, ' ', c.last_name) AS customer_name,\n",
        "        SUM(p.amount) AS total_revenue\n",
        "    FROM\n",
        "        customer c\n",
        "    JOIN\n",
        "        payment p ON c.customer_id = p.customer_id\n",
        "    GROUP BY\n",
        "        c.customer_id, customer_name\n",
        ")\n",
        "# Select customer names and their total revenue\n",
        "SELECT\n",
        "    customer_name,\n",
        "    total_revenue\n",
        "FROM\n",
        "    CustomerRevenue\n",
        "ORDER BY\n",
        "    total_revenue DESC;\n"
      ],
      "metadata": {
        "id": "eEpwQ7wV7_Dt"
      },
      "execution_count": null,
      "outputs": []
    },
    {
      "cell_type": "code",
      "source": [
        "#ques 8  Utilize a CTE with a window function to rank films based on their rental duration from the film table\n",
        "\n",
        " WITH FilmRanked AS (\n",
        "#  Rank films based on their rental duration in descending order\n",
        "    SELECT\n",
        "        f.film_id,\n",
        "        f.title AS film_title,\n",
        "        f.rental_duration,\n",
        "        RANK() OVER (ORDER BY f.rental_duration DESC) AS rental_rank\n",
        "    FROM\n",
        "        film f\n",
        ")\n",
        "# Select the ranked films\n",
        "SELECT\n",
        "    film_title,\n",
        "    rental_duration,\n",
        "    rental_rank\n",
        "FROM\n",
        "    FilmRanked\n",
        "ORDER BY\n",
        "    rental_rank;\n"
      ],
      "metadata": {
        "id": "Nakz5UnH8hMZ"
      },
      "execution_count": null,
      "outputs": []
    },
    {
      "cell_type": "code",
      "source": [
        " C#ques 9 reate a CTE to list customers who have made more than two rentals, and then join this CTE with the customer table to retrieve additional customer details.\n",
        "\n",
        " WITH CustomerRentalCount AS (\n",
        "    SELECT\n",
        "        p.customer_id,\n",
        "        COUNT(p.payment_id) AS rental_count\n",
        "    FROM payment p\n",
        "    GROUP BY  p.customer_id\n",
        "    HAVING COUNT(p.payment_id) > 2\n",
        ")\n",
        "SELECT\n",
        "    c.customer_id,\n",
        "    c.first_name,\n",
        "    c.last_name,\n",
        "    c.email,\n",
        "    crc.rental_count\n",
        "FROM CustomerRentalCount crc\n",
        "JOIN customer c ON crc.customer_id = c.customer_id\n",
        "ORDER BY  crc.rental_count DESC;\n",
        "\n"
      ],
      "metadata": {
        "id": "EBqsRKjd9H7J"
      },
      "execution_count": null,
      "outputs": []
    },
    {
      "cell_type": "code",
      "source": [
        "#ques 10 Write a query using a CTE to find the total number of rentals made each month, considering the rental_date from the rental table.\n",
        "\n",
        "WITH MonthlyRentals AS (\n",
        "    SELECT\n",
        "        DATE_FORMAT(r.rental_date, '%Y-%m') AS rental_month,\n",
        "        COUNT(r.rental_id) AS rental_count\n",
        "    FROM  rental r\n",
        "    GROUP BY rental_month\n",
        ")\n",
        "SELECT rental_month, rental_count\n",
        "FROM  MonthlyRentals\n",
        "ORDER BY  rental_month ASC;\n"
      ],
      "metadata": {
        "id": "3Okhr0iX920-"
      },
      "execution_count": null,
      "outputs": []
    },
    {
      "cell_type": "code",
      "source": [
        "#ques 11  Create a CTE to generate a report showing pairs of actors who have appeared in the same film together, using the film_actor table.\n",
        "\n",
        "WITH ActorPairs AS (\n",
        "    SELECT\n",
        "        fa1.actor_id AS actor1_id,\n",
        "        fa2.actor_id AS actor2_id,\n",
        "        fa1.film_id\n",
        "    FROM  film_actor fa1\n",
        "    JOIN film_actor fa2 ON fa1.film_id = fa2.film_id\n",
        "    WHERE fa1.actor_id < fa2.actor_id  -- Ensure we don't repeat pairs (actor1, actor2) and (actor2, actor1)\n",
        ")\n",
        "SELECT\n",
        "    a1.first_name AS actor1_first_name,\n",
        "    a1.last_name AS actor1_last_name,\n",
        "    a2.first_name AS actor2_first_name,\n"
      ],
      "metadata": {
        "id": "PY3KNahy-g78"
      },
      "execution_count": null,
      "outputs": []
    },
    {
      "cell_type": "code",
      "source": [
        "# ques 12  Implement a recursive CTE to find all employees in the staff table who report to a specific manager, considering the reports_to column\n",
        "\n",
        "WITH RECURSIVE EmployeeHierarchy AS (\n",
        "    SELECT\n",
        "        s.staff_id,\n",
        "        s.first_name,\n",
        "        s.last_name,\n",
        "        s.reports_to\n",
        "    FROM\n",
        "        staff s\n",
        "    WHERE\n",
        "        s.reports_to = <Manager_Staff_ID>\n",
        "\n",
        "    UNION ALL\n",
        "    SELECT\n",
        "        s.staff_id,\n",
        "        s.first_name,\n",
        "        s.last_name,\n",
        "        s.reports_to\n",
        "    FROM\n",
        "        staff s\n",
        "    JOIN\n",
        "        EmployeeHierarchy eh ON s.reports_to = eh.staff_id\n",
        ")\n",
        "SELECT\n",
        "    staff_id,\n",
        "    first_name,\n",
        "    last_name,\n",
        "    reports_to\n",
        "FROM\n",
        "    EmployeeHierarchy\n",
        "ORDER BY\n",
        "    staff_id;\n"
      ],
      "metadata": {
        "id": "7WxvxKV9_C2X"
      },
      "execution_count": null,
      "outputs": []
    }
  ]
}